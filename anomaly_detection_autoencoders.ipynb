{
  "nbformat": 4,
  "nbformat_minor": 0,
  "metadata": {
    "colab": {
      "provenance": [],
      "gpuType": "T4",
      "authorship_tag": "ABX9TyMcutUwZp9t1sWXSa9jiB01",
      "include_colab_link": true
    },
    "kernelspec": {
      "name": "python3",
      "display_name": "Python 3"
    },
    "language_info": {
      "name": "python"
    },
    "accelerator": "GPU"
  },
  "cells": [
    {
      "cell_type": "markdown",
      "metadata": {
        "id": "view-in-github",
        "colab_type": "text"
      },
      "source": [
        "<a href=\"https://colab.research.google.com/github/Ihalagedara/optimization_agent/blob/main/anomaly_detection_autoencoders.ipynb\" target=\"_parent\"><img src=\"https://colab.research.google.com/assets/colab-badge.svg\" alt=\"Open In Colab\"/></a>"
      ]
    },
    {
      "cell_type": "code",
      "execution_count": 1,
      "metadata": {
        "id": "5-H4HlH4jyro"
      },
      "outputs": [],
      "source": [
        "import pandas as pd\n",
        "import torch\n",
        "import torch.nn as nn\n",
        "import torch.optim as optim\n",
        "from torch.utils.data import DataLoader, TensorDataset\n",
        "from sklearn.model_selection import train_test_split\n",
        "from sklearn.preprocessing import StandardScaler"
      ]
    },
    {
      "cell_type": "code",
      "source": [
        "from google.colab import drive\n",
        "drive.mount('/content/drive')"
      ],
      "metadata": {
        "colab": {
          "base_uri": "https://localhost:8080/"
        },
        "id": "Onx06PpukBxV",
        "outputId": "e1d9591d-b380-4ad8-fee3-ce592073293e"
      },
      "execution_count": 2,
      "outputs": [
        {
          "output_type": "stream",
          "name": "stdout",
          "text": [
            "Mounted at /content/drive\n"
          ]
        }
      ]
    },
    {
      "cell_type": "code",
      "source": [
        "df = pd.read_csv('/content/drive/MyDrive/Mobitel anomaly detection/compilied_data.csv')"
      ],
      "metadata": {
        "id": "DWSEZf6okUk1"
      },
      "execution_count": 3,
      "outputs": []
    },
    {
      "cell_type": "code",
      "source": [
        "df.head(5)"
      ],
      "metadata": {
        "colab": {
          "base_uri": "https://localhost:8080/",
          "height": 255
        },
        "id": "vTBvpKQCkhUK",
        "outputId": "156c32e3-1278-4ac7-99db-897ada08dff5"
      },
      "execution_count": 4,
      "outputs": [
        {
          "output_type": "execute_result",
          "data": {
            "text/plain": [
              "   interrathigh  idlehigh  bhpriority  poli1  poli2  poli3  poli4  poli5  \\\n",
              "0             1         1           1      1      0      0      1      1   \n",
              "1             1         1           1      1      0      0      1      1   \n",
              "2             1         1           1      1      0      0      1      1   \n",
              "3             1         1           1      1      0      0      1      1   \n",
              "4             1         1           1      1      0      0      1      1   \n",
              "\n",
              "   poli6  hoallowed0  ...  cellhoparacfg12.3  cellhoparacfg12.4  \\\n",
              "0      1           1  ...                  0                  0   \n",
              "1      1           1  ...                  0                  0   \n",
              "2      1           1  ...                  0                  0   \n",
              "3      1           1  ...                  0                  0   \n",
              "4      1           1  ...                  0                  0   \n",
              "\n",
              "   cellhoparacfg12.5  cellhoparacfg12.6  cellhoparacfg12.7  cellhoparacfg12.8  \\\n",
              "0                  0                  0                  0                  0   \n",
              "1                  0                  0                  0                  0   \n",
              "2                  0                  0                  0                  0   \n",
              "3                  0                  0                  0                  0   \n",
              "4                  0                  0                  0                  0   \n",
              "\n",
              "   cellhoparacfg12.9  cellhoparacfg12.10  cellhoparacfg12.11  \\\n",
              "0                  0                   0                   0   \n",
              "1                  0                   0                   0   \n",
              "2                  0                   0                   0   \n",
              "3                  0                   0                   0   \n",
              "4                  0                   0                   0   \n",
              "\n",
              "   cellhoparacfg12.12  \n",
              "0                   0  \n",
              "1                   0  \n",
              "2                   0  \n",
              "3                   0  \n",
              "4                   0  \n",
              "\n",
              "[5 rows x 35 columns]"
            ],
            "text/html": [
              "\n",
              "  <div id=\"df-a30dff74-6933-4ef2-a65f-053542b57f32\" class=\"colab-df-container\">\n",
              "    <div>\n",
              "<style scoped>\n",
              "    .dataframe tbody tr th:only-of-type {\n",
              "        vertical-align: middle;\n",
              "    }\n",
              "\n",
              "    .dataframe tbody tr th {\n",
              "        vertical-align: top;\n",
              "    }\n",
              "\n",
              "    .dataframe thead th {\n",
              "        text-align: right;\n",
              "    }\n",
              "</style>\n",
              "<table border=\"1\" class=\"dataframe\">\n",
              "  <thead>\n",
              "    <tr style=\"text-align: right;\">\n",
              "      <th></th>\n",
              "      <th>interrathigh</th>\n",
              "      <th>idlehigh</th>\n",
              "      <th>bhpriority</th>\n",
              "      <th>poli1</th>\n",
              "      <th>poli2</th>\n",
              "      <th>poli3</th>\n",
              "      <th>poli4</th>\n",
              "      <th>poli5</th>\n",
              "      <th>poli6</th>\n",
              "      <th>hoallowed0</th>\n",
              "      <th>...</th>\n",
              "      <th>cellhoparacfg12.3</th>\n",
              "      <th>cellhoparacfg12.4</th>\n",
              "      <th>cellhoparacfg12.5</th>\n",
              "      <th>cellhoparacfg12.6</th>\n",
              "      <th>cellhoparacfg12.7</th>\n",
              "      <th>cellhoparacfg12.8</th>\n",
              "      <th>cellhoparacfg12.9</th>\n",
              "      <th>cellhoparacfg12.10</th>\n",
              "      <th>cellhoparacfg12.11</th>\n",
              "      <th>cellhoparacfg12.12</th>\n",
              "    </tr>\n",
              "  </thead>\n",
              "  <tbody>\n",
              "    <tr>\n",
              "      <th>0</th>\n",
              "      <td>1</td>\n",
              "      <td>1</td>\n",
              "      <td>1</td>\n",
              "      <td>1</td>\n",
              "      <td>0</td>\n",
              "      <td>0</td>\n",
              "      <td>1</td>\n",
              "      <td>1</td>\n",
              "      <td>1</td>\n",
              "      <td>1</td>\n",
              "      <td>...</td>\n",
              "      <td>0</td>\n",
              "      <td>0</td>\n",
              "      <td>0</td>\n",
              "      <td>0</td>\n",
              "      <td>0</td>\n",
              "      <td>0</td>\n",
              "      <td>0</td>\n",
              "      <td>0</td>\n",
              "      <td>0</td>\n",
              "      <td>0</td>\n",
              "    </tr>\n",
              "    <tr>\n",
              "      <th>1</th>\n",
              "      <td>1</td>\n",
              "      <td>1</td>\n",
              "      <td>1</td>\n",
              "      <td>1</td>\n",
              "      <td>0</td>\n",
              "      <td>0</td>\n",
              "      <td>1</td>\n",
              "      <td>1</td>\n",
              "      <td>1</td>\n",
              "      <td>1</td>\n",
              "      <td>...</td>\n",
              "      <td>0</td>\n",
              "      <td>0</td>\n",
              "      <td>0</td>\n",
              "      <td>0</td>\n",
              "      <td>0</td>\n",
              "      <td>0</td>\n",
              "      <td>0</td>\n",
              "      <td>0</td>\n",
              "      <td>0</td>\n",
              "      <td>0</td>\n",
              "    </tr>\n",
              "    <tr>\n",
              "      <th>2</th>\n",
              "      <td>1</td>\n",
              "      <td>1</td>\n",
              "      <td>1</td>\n",
              "      <td>1</td>\n",
              "      <td>0</td>\n",
              "      <td>0</td>\n",
              "      <td>1</td>\n",
              "      <td>1</td>\n",
              "      <td>1</td>\n",
              "      <td>1</td>\n",
              "      <td>...</td>\n",
              "      <td>0</td>\n",
              "      <td>0</td>\n",
              "      <td>0</td>\n",
              "      <td>0</td>\n",
              "      <td>0</td>\n",
              "      <td>0</td>\n",
              "      <td>0</td>\n",
              "      <td>0</td>\n",
              "      <td>0</td>\n",
              "      <td>0</td>\n",
              "    </tr>\n",
              "    <tr>\n",
              "      <th>3</th>\n",
              "      <td>1</td>\n",
              "      <td>1</td>\n",
              "      <td>1</td>\n",
              "      <td>1</td>\n",
              "      <td>0</td>\n",
              "      <td>0</td>\n",
              "      <td>1</td>\n",
              "      <td>1</td>\n",
              "      <td>1</td>\n",
              "      <td>1</td>\n",
              "      <td>...</td>\n",
              "      <td>0</td>\n",
              "      <td>0</td>\n",
              "      <td>0</td>\n",
              "      <td>0</td>\n",
              "      <td>0</td>\n",
              "      <td>0</td>\n",
              "      <td>0</td>\n",
              "      <td>0</td>\n",
              "      <td>0</td>\n",
              "      <td>0</td>\n",
              "    </tr>\n",
              "    <tr>\n",
              "      <th>4</th>\n",
              "      <td>1</td>\n",
              "      <td>1</td>\n",
              "      <td>1</td>\n",
              "      <td>1</td>\n",
              "      <td>0</td>\n",
              "      <td>0</td>\n",
              "      <td>1</td>\n",
              "      <td>1</td>\n",
              "      <td>1</td>\n",
              "      <td>1</td>\n",
              "      <td>...</td>\n",
              "      <td>0</td>\n",
              "      <td>0</td>\n",
              "      <td>0</td>\n",
              "      <td>0</td>\n",
              "      <td>0</td>\n",
              "      <td>0</td>\n",
              "      <td>0</td>\n",
              "      <td>0</td>\n",
              "      <td>0</td>\n",
              "      <td>0</td>\n",
              "    </tr>\n",
              "  </tbody>\n",
              "</table>\n",
              "<p>5 rows × 35 columns</p>\n",
              "</div>\n",
              "    <div class=\"colab-df-buttons\">\n",
              "\n",
              "  <div class=\"colab-df-container\">\n",
              "    <button class=\"colab-df-convert\" onclick=\"convertToInteractive('df-a30dff74-6933-4ef2-a65f-053542b57f32')\"\n",
              "            title=\"Convert this dataframe to an interactive table.\"\n",
              "            style=\"display:none;\">\n",
              "\n",
              "  <svg xmlns=\"http://www.w3.org/2000/svg\" height=\"24px\" viewBox=\"0 -960 960 960\">\n",
              "    <path d=\"M120-120v-720h720v720H120Zm60-500h600v-160H180v160Zm220 220h160v-160H400v160Zm0 220h160v-160H400v160ZM180-400h160v-160H180v160Zm440 0h160v-160H620v160ZM180-180h160v-160H180v160Zm440 0h160v-160H620v160Z\"/>\n",
              "  </svg>\n",
              "    </button>\n",
              "\n",
              "  <style>\n",
              "    .colab-df-container {\n",
              "      display:flex;\n",
              "      gap: 12px;\n",
              "    }\n",
              "\n",
              "    .colab-df-convert {\n",
              "      background-color: #E8F0FE;\n",
              "      border: none;\n",
              "      border-radius: 50%;\n",
              "      cursor: pointer;\n",
              "      display: none;\n",
              "      fill: #1967D2;\n",
              "      height: 32px;\n",
              "      padding: 0 0 0 0;\n",
              "      width: 32px;\n",
              "    }\n",
              "\n",
              "    .colab-df-convert:hover {\n",
              "      background-color: #E2EBFA;\n",
              "      box-shadow: 0px 1px 2px rgba(60, 64, 67, 0.3), 0px 1px 3px 1px rgba(60, 64, 67, 0.15);\n",
              "      fill: #174EA6;\n",
              "    }\n",
              "\n",
              "    .colab-df-buttons div {\n",
              "      margin-bottom: 4px;\n",
              "    }\n",
              "\n",
              "    [theme=dark] .colab-df-convert {\n",
              "      background-color: #3B4455;\n",
              "      fill: #D2E3FC;\n",
              "    }\n",
              "\n",
              "    [theme=dark] .colab-df-convert:hover {\n",
              "      background-color: #434B5C;\n",
              "      box-shadow: 0px 1px 3px 1px rgba(0, 0, 0, 0.15);\n",
              "      filter: drop-shadow(0px 1px 2px rgba(0, 0, 0, 0.3));\n",
              "      fill: #FFFFFF;\n",
              "    }\n",
              "  </style>\n",
              "\n",
              "    <script>\n",
              "      const buttonEl =\n",
              "        document.querySelector('#df-a30dff74-6933-4ef2-a65f-053542b57f32 button.colab-df-convert');\n",
              "      buttonEl.style.display =\n",
              "        google.colab.kernel.accessAllowed ? 'block' : 'none';\n",
              "\n",
              "      async function convertToInteractive(key) {\n",
              "        const element = document.querySelector('#df-a30dff74-6933-4ef2-a65f-053542b57f32');\n",
              "        const dataTable =\n",
              "          await google.colab.kernel.invokeFunction('convertToInteractive',\n",
              "                                                    [key], {});\n",
              "        if (!dataTable) return;\n",
              "\n",
              "        const docLinkHtml = 'Like what you see? Visit the ' +\n",
              "          '<a target=\"_blank\" href=https://colab.research.google.com/notebooks/data_table.ipynb>data table notebook</a>'\n",
              "          + ' to learn more about interactive tables.';\n",
              "        element.innerHTML = '';\n",
              "        dataTable['output_type'] = 'display_data';\n",
              "        await google.colab.output.renderOutput(dataTable, element);\n",
              "        const docLink = document.createElement('div');\n",
              "        docLink.innerHTML = docLinkHtml;\n",
              "        element.appendChild(docLink);\n",
              "      }\n",
              "    </script>\n",
              "  </div>\n",
              "\n",
              "\n",
              "    <div id=\"df-de494a03-4bcf-4818-8e00-3b0e8ebe9309\">\n",
              "      <button class=\"colab-df-quickchart\" onclick=\"quickchart('df-de494a03-4bcf-4818-8e00-3b0e8ebe9309')\"\n",
              "                title=\"Suggest charts\"\n",
              "                style=\"display:none;\">\n",
              "\n",
              "<svg xmlns=\"http://www.w3.org/2000/svg\" height=\"24px\"viewBox=\"0 0 24 24\"\n",
              "     width=\"24px\">\n",
              "    <g>\n",
              "        <path d=\"M19 3H5c-1.1 0-2 .9-2 2v14c0 1.1.9 2 2 2h14c1.1 0 2-.9 2-2V5c0-1.1-.9-2-2-2zM9 17H7v-7h2v7zm4 0h-2V7h2v10zm4 0h-2v-4h2v4z\"/>\n",
              "    </g>\n",
              "</svg>\n",
              "      </button>\n",
              "\n",
              "<style>\n",
              "  .colab-df-quickchart {\n",
              "      --bg-color: #E8F0FE;\n",
              "      --fill-color: #1967D2;\n",
              "      --hover-bg-color: #E2EBFA;\n",
              "      --hover-fill-color: #174EA6;\n",
              "      --disabled-fill-color: #AAA;\n",
              "      --disabled-bg-color: #DDD;\n",
              "  }\n",
              "\n",
              "  [theme=dark] .colab-df-quickchart {\n",
              "      --bg-color: #3B4455;\n",
              "      --fill-color: #D2E3FC;\n",
              "      --hover-bg-color: #434B5C;\n",
              "      --hover-fill-color: #FFFFFF;\n",
              "      --disabled-bg-color: #3B4455;\n",
              "      --disabled-fill-color: #666;\n",
              "  }\n",
              "\n",
              "  .colab-df-quickchart {\n",
              "    background-color: var(--bg-color);\n",
              "    border: none;\n",
              "    border-radius: 50%;\n",
              "    cursor: pointer;\n",
              "    display: none;\n",
              "    fill: var(--fill-color);\n",
              "    height: 32px;\n",
              "    padding: 0;\n",
              "    width: 32px;\n",
              "  }\n",
              "\n",
              "  .colab-df-quickchart:hover {\n",
              "    background-color: var(--hover-bg-color);\n",
              "    box-shadow: 0 1px 2px rgba(60, 64, 67, 0.3), 0 1px 3px 1px rgba(60, 64, 67, 0.15);\n",
              "    fill: var(--button-hover-fill-color);\n",
              "  }\n",
              "\n",
              "  .colab-df-quickchart-complete:disabled,\n",
              "  .colab-df-quickchart-complete:disabled:hover {\n",
              "    background-color: var(--disabled-bg-color);\n",
              "    fill: var(--disabled-fill-color);\n",
              "    box-shadow: none;\n",
              "  }\n",
              "\n",
              "  .colab-df-spinner {\n",
              "    border: 2px solid var(--fill-color);\n",
              "    border-color: transparent;\n",
              "    border-bottom-color: var(--fill-color);\n",
              "    animation:\n",
              "      spin 1s steps(1) infinite;\n",
              "  }\n",
              "\n",
              "  @keyframes spin {\n",
              "    0% {\n",
              "      border-color: transparent;\n",
              "      border-bottom-color: var(--fill-color);\n",
              "      border-left-color: var(--fill-color);\n",
              "    }\n",
              "    20% {\n",
              "      border-color: transparent;\n",
              "      border-left-color: var(--fill-color);\n",
              "      border-top-color: var(--fill-color);\n",
              "    }\n",
              "    30% {\n",
              "      border-color: transparent;\n",
              "      border-left-color: var(--fill-color);\n",
              "      border-top-color: var(--fill-color);\n",
              "      border-right-color: var(--fill-color);\n",
              "    }\n",
              "    40% {\n",
              "      border-color: transparent;\n",
              "      border-right-color: var(--fill-color);\n",
              "      border-top-color: var(--fill-color);\n",
              "    }\n",
              "    60% {\n",
              "      border-color: transparent;\n",
              "      border-right-color: var(--fill-color);\n",
              "    }\n",
              "    80% {\n",
              "      border-color: transparent;\n",
              "      border-right-color: var(--fill-color);\n",
              "      border-bottom-color: var(--fill-color);\n",
              "    }\n",
              "    90% {\n",
              "      border-color: transparent;\n",
              "      border-bottom-color: var(--fill-color);\n",
              "    }\n",
              "  }\n",
              "</style>\n",
              "\n",
              "      <script>\n",
              "        async function quickchart(key) {\n",
              "          const quickchartButtonEl =\n",
              "            document.querySelector('#' + key + ' button');\n",
              "          quickchartButtonEl.disabled = true;  // To prevent multiple clicks.\n",
              "          quickchartButtonEl.classList.add('colab-df-spinner');\n",
              "          try {\n",
              "            const charts = await google.colab.kernel.invokeFunction(\n",
              "                'suggestCharts', [key], {});\n",
              "          } catch (error) {\n",
              "            console.error('Error during call to suggestCharts:', error);\n",
              "          }\n",
              "          quickchartButtonEl.classList.remove('colab-df-spinner');\n",
              "          quickchartButtonEl.classList.add('colab-df-quickchart-complete');\n",
              "        }\n",
              "        (() => {\n",
              "          let quickchartButtonEl =\n",
              "            document.querySelector('#df-de494a03-4bcf-4818-8e00-3b0e8ebe9309 button');\n",
              "          quickchartButtonEl.style.display =\n",
              "            google.colab.kernel.accessAllowed ? 'block' : 'none';\n",
              "        })();\n",
              "      </script>\n",
              "    </div>\n",
              "\n",
              "    </div>\n",
              "  </div>\n"
            ],
            "application/vnd.google.colaboratory.intrinsic+json": {
              "type": "dataframe",
              "variable_name": "df"
            }
          },
          "metadata": {},
          "execution_count": 4
        }
      ]
    },
    {
      "cell_type": "code",
      "source": [
        "df.shape"
      ],
      "metadata": {
        "colab": {
          "base_uri": "https://localhost:8080/"
        },
        "id": "WpAIkGhBkmXb",
        "outputId": "4f126c2c-1553-41a3-dd7c-97fa7b0f8973"
      },
      "execution_count": 5,
      "outputs": [
        {
          "output_type": "execute_result",
          "data": {
            "text/plain": [
              "(613, 35)"
            ]
          },
          "metadata": {},
          "execution_count": 5
        }
      ]
    },
    {
      "cell_type": "code",
      "source": [
        "import pandas as pd\n",
        "import numpy as np\n",
        "from sklearn.preprocessing import StandardScaler\n",
        "from tensorflow.keras.models import Model\n",
        "from tensorflow.keras.layers import Input, Dense\n",
        "from tensorflow.keras.optimizers import Adam\n",
        "\n",
        "# -----------------------------\n",
        "# 1. Load Data\n",
        "# -----------------------------\n",
        "# Good KPI parameter sets (rows = cells, cols = params)\n",
        "df_good = df[:500]\n",
        "\n",
        "# Degraded parameter set (one row)\n",
        "df_bad = df[500:]\n",
        "\n",
        "# -----------------------------\n",
        "# 2. Preprocessing\n",
        "# -----------------------------\n",
        "scaler = StandardScaler()\n",
        "X_good = scaler.fit_transform(df_good.values)\n",
        "X_bad = scaler.transform(df_bad.values)\n",
        "\n",
        "n_features = X_good.shape[1]"
      ],
      "metadata": {
        "id": "0QQGVvzGm3ed"
      },
      "execution_count": 7,
      "outputs": []
    },
    {
      "cell_type": "code",
      "source": [
        "input_layer = Input(shape=(n_features,))\n",
        "encoded = Dense(64, activation=\"relu\")(input_layer)\n",
        "encoded = Dense(32, activation=\"relu\")(encoded)\n",
        "bottleneck = Dense(8, activation=\"relu\")(encoded)  # compressed representation\n",
        "decoded = Dense(32, activation=\"relu\")(bottleneck)\n",
        "decoded = Dense(64, activation=\"relu\")(decoded)\n",
        "output_layer = Dense(n_features, activation=\"linear\")(decoded)\n",
        "\n",
        "autoencoder = Model(inputs=input_layer, outputs=output_layer)\n",
        "autoencoder.compile(optimizer=Adam(learning_rate=0.001), loss=\"mse\")"
      ],
      "metadata": {
        "id": "_N_cw4dym5AM"
      },
      "execution_count": 8,
      "outputs": []
    },
    {
      "cell_type": "code",
      "source": [
        "history = autoencoder.fit(\n",
        "    X_good, X_good,\n",
        "    epochs=100,\n",
        "    batch_size=16,\n",
        "    shuffle=True,\n",
        "    validation_split=0.1,\n",
        "    verbose=1\n",
        ")"
      ],
      "metadata": {
        "colab": {
          "base_uri": "https://localhost:8080/"
        },
        "id": "kkjey5CGm6cE",
        "outputId": "58bcfbd7-314c-42f9-9625-5001dbd91d11"
      },
      "execution_count": 13,
      "outputs": [
        {
          "output_type": "stream",
          "name": "stdout",
          "text": [
            "Epoch 1/100\n",
            "Epoch 2/100\n",
            "Epoch 3/100\n",
            "Epoch 4/100\n",
            "Epoch 5/100\n",
            "Epoch 6/100\n",
            "Epoch 7/100\n",
            "Epoch 8/100\n",
            "Epoch 9/100\n",
            "Epoch 10/100\n",
            "Epoch 11/100\n",
            "Epoch 12/100\n",
            "Epoch 13/100\n",
            "Epoch 14/100\n",
            "Epoch 15/100\n",
            "Epoch 16/100\n",
            "Epoch 17/100\n",
            "Epoch 18/100\n",
            "Epoch 19/100\n",
            "Epoch 20/100\n",
            "Epoch 21/100\n",
            "Epoch 22/100\n",
            "Epoch 23/100\n",
            "Epoch 24/100\n",
            "Epoch 25/100\n",
            "Epoch 26/100\n",
            "Epoch 27/100\n",
            "Epoch 28/100\n",
            "Epoch 29/100\n",
            "Epoch 30/100\n",
            "Epoch 31/100\n",
            "Epoch 32/100\n",
            "Epoch 33/100\n",
            "Epoch 34/100\n",
            "Epoch 35/100\n",
            "Epoch 36/100\n",
            "Epoch 37/100\n",
            "Epoch 38/100\n",
            "Epoch 39/100\n",
            "Epoch 40/100\n",
            "Epoch 41/100\n",
            "Epoch 42/100\n",
            "Epoch 43/100\n",
            "Epoch 44/100\n",
            "Epoch 45/100\n",
            "Epoch 46/100\n",
            "Epoch 47/100\n",
            "Epoch 48/100\n",
            "Epoch 49/100\n",
            "Epoch 50/100\n",
            "Epoch 51/100\n",
            "Epoch 52/100\n",
            "Epoch 53/100\n",
            "Epoch 54/100\n",
            "Epoch 55/100\n",
            "Epoch 56/100\n",
            "Epoch 57/100\n",
            "Epoch 58/100\n",
            "Epoch 59/100\n",
            "Epoch 60/100\n",
            "Epoch 61/100\n",
            "Epoch 62/100\n",
            "Epoch 63/100\n",
            "Epoch 64/100\n",
            "Epoch 65/100\n",
            "Epoch 66/100\n",
            "Epoch 67/100\n",
            "Epoch 68/100\n",
            "Epoch 69/100\n",
            "Epoch 70/100\n",
            "Epoch 71/100\n",
            "Epoch 72/100\n",
            "Epoch 73/100\n",
            "Epoch 74/100\n",
            "Epoch 75/100\n",
            "Epoch 76/100\n",
            "Epoch 77/100\n",
            "Epoch 78/100\n",
            "Epoch 79/100\n",
            "Epoch 80/100\n",
            "Epoch 81/100\n",
            "Epoch 82/100\n",
            "Epoch 83/100\n",
            "Epoch 84/100\n",
            "Epoch 85/100\n",
            "Epoch 86/100\n",
            "Epoch 87/100\n",
            "Epoch 88/100\n",
            "Epoch 89/100\n",
            "Epoch 90/100\n",
            "Epoch 91/100\n",
            "Epoch 92/100\n",
            "Epoch 93/100\n",
            "Epoch 94/100\n",
            "Epoch 95/100\n",
            "Epoch 96/100\n",
            "Epoch 97/100\n",
            "Epoch 98/100\n",
            "Epoch 99/100\n",
            "Epoch 100/100\n"
          ]
        }
      ]
    },
    {
      "cell_type": "code",
      "source": [
        "reconstructed = autoencoder.predict(X_bad)\n",
        "reconstruction_error = np.abs(X_bad - reconstructed)"
      ],
      "metadata": {
        "colab": {
          "base_uri": "https://localhost:8080/"
        },
        "id": "FrosbTbHm7lN",
        "outputId": "ebf03838-7211-454e-93d6-562e9e12533d"
      },
      "execution_count": 14,
      "outputs": [
        {
          "output_type": "stream",
          "name": "stdout",
          "text": [
            "\u001b[1m4/4\u001b[0m \u001b[32m━━━━━━━━━━━━━━━━━━━━\u001b[0m\u001b[37m\u001b[0m \u001b[1m11s\u001b[0m 159ms/step\n"
          ]
        }
      ]
    },
    {
      "cell_type": "code",
      "source": [
        "reconstruction_error"
      ],
      "metadata": {
        "colab": {
          "base_uri": "https://localhost:8080/"
        },
        "id": "rwF6-QuHr513",
        "outputId": "13fc8e74-de8e-456c-d1e3-c0a202b414fb"
      },
      "execution_count": 17,
      "outputs": [
        {
          "output_type": "execute_result",
          "data": {
            "text/plain": [
              "array([[3.03829907e-04, 2.49897243e-04, 1.06655061e-05, ...,\n",
              "        3.68228182e-04, 1.14466995e-04, 1.60947442e-04],\n",
              "       [2.61323186e-03, 2.00878115e-03, 4.75663692e-04, ...,\n",
              "        1.74166635e-04, 2.55327672e-04, 1.57713890e-04],\n",
              "       [2.61323186e-03, 2.00878115e-03, 4.75663692e-04, ...,\n",
              "        1.74166635e-04, 2.55327672e-04, 1.57713890e-04],\n",
              "       ...,\n",
              "       [2.61323186e-03, 2.00878115e-03, 4.75663692e-04, ...,\n",
              "        1.74166635e-04, 2.55327672e-04, 1.57713890e-04],\n",
              "       [2.61323186e-03, 2.00878115e-03, 4.75663692e-04, ...,\n",
              "        1.74166635e-04, 2.55327672e-04, 1.57713890e-04],\n",
              "       [7.13941309e-02, 8.26087448e-02, 1.00597736e+00, ...,\n",
              "        1.17958877e-02, 4.05496731e-03, 1.05226450e-02]])"
            ]
          },
          "metadata": {},
          "execution_count": 17
        }
      ]
    },
    {
      "cell_type": "code",
      "source": [
        "type(X_bad)"
      ],
      "metadata": {
        "colab": {
          "base_uri": "https://localhost:8080/"
        },
        "id": "qTflr9Wwsob2",
        "outputId": "ab6bb3a9-4ce5-4481-f1c2-a54f683311e2"
      },
      "execution_count": 24,
      "outputs": [
        {
          "output_type": "execute_result",
          "data": {
            "text/plain": [
              "numpy.ndarray"
            ]
          },
          "metadata": {},
          "execution_count": 24
        }
      ]
    },
    {
      "cell_type": "code",
      "source": [
        "#changed\n",
        "b = [1,\t1,\t1,\t1,\t0,\t0,\t1,\t0,\t1,\t1,\t0,\t0,\t1,\t0,\t0,\t0,\t1,\t0,\t0,\t0,\t1,\t0,\t0,\t0,\t0,\t0,\t0,\t0,\t0,\t0,\t0,\t0,\t0,\t0,\t0]"
      ],
      "metadata": {
        "id": "Nv8NhXG7sNj1"
      },
      "execution_count": 38,
      "outputs": []
    },
    {
      "cell_type": "code",
      "source": [
        "b = [0,\t1,\t1,\t1,\t0,\t0,\t1,\t0,\t1,\t1,\t0,\t0,\t1,\t0,\t0,\t0,\t0,\t0,\t0,\t0,\t0,\t0,\t0,\t0,\t0,\t0,\t0,\t0,\t0,\t0,\t0,\t0,\t0,\t0,\t0]\n"
      ],
      "metadata": {
        "id": "M0gE0mUWtxPP"
      },
      "execution_count": 53,
      "outputs": []
    },
    {
      "cell_type": "code",
      "source": [
        "interrathigh\tidlehigh\tbhpriority\tpoli1\tpoli2\tpoli3\tpoli4\tpoli5\tpoli6\thoallowed0\thoallowed1\thoallowed2\thoallowed3\thoallowed4\thoallowed5\thoallowed6\thoallowed7\thoallowed8\thoallowed9\thoallowed10\thoallowed11\thoallowed12\tcellhoparacfg12\tcellhoparacfg12\tcellhoparacfg12\tcellhoparacfg12\tcellhoparacfg12\tcellhoparacfg12\tcellhoparacfg12\tcellhoparacfg12\tcellhoparacfg12\tcellhoparacfg12\tcellhoparacfg12\tcellhoparacfg12\tcellhoparacfg12\n"
      ],
      "metadata": {
        "id": "jyNslc9Muqtw"
      },
      "execution_count": null,
      "outputs": []
    },
    {
      "cell_type": "code",
      "source": [
        "d = np.array([b])"
      ],
      "metadata": {
        "id": "zp9rILrBsiMS"
      },
      "execution_count": 54,
      "outputs": []
    },
    {
      "cell_type": "code",
      "source": [
        "dd = pd.DataFrame(d)"
      ],
      "metadata": {
        "id": "rOBD6OTNvi9J"
      },
      "execution_count": 63,
      "outputs": []
    },
    {
      "cell_type": "code",
      "source": [],
      "metadata": {
        "id": "CmsEjKwyvi4e"
      },
      "execution_count": null,
      "outputs": []
    },
    {
      "cell_type": "code",
      "source": [
        "reconstructed = autoencoder.predict(d)"
      ],
      "metadata": {
        "colab": {
          "base_uri": "https://localhost:8080/"
        },
        "id": "XkgH16mHr83t",
        "outputId": "0eea72c8-ac50-4710-947b-f8b7444a84a3"
      },
      "execution_count": 55,
      "outputs": [
        {
          "output_type": "stream",
          "name": "stdout",
          "text": [
            "\u001b[1m1/1\u001b[0m \u001b[32m━━━━━━━━━━━━━━━━━━━━\u001b[0m\u001b[37m\u001b[0m \u001b[1m0s\u001b[0m 30ms/step\n"
          ]
        }
      ]
    },
    {
      "cell_type": "code",
      "source": [
        "reconstructed"
      ],
      "metadata": {
        "colab": {
          "base_uri": "https://localhost:8080/"
        },
        "id": "jPzcAw4rs0v7",
        "outputId": "c59fef17-88a1-42f1-f650-0a272a8299ff"
      },
      "execution_count": 56,
      "outputs": [
        {
          "output_type": "execute_result",
          "data": {
            "text/plain": [
              "array([[ 0.01057847,  0.11509593,  0.04610909, -0.00757766, -0.06593242,\n",
              "        -0.00915979,  0.04999941,  0.04839317,  0.01867294,  0.01196197,\n",
              "        -0.01513952,  0.4057234 , -0.06261214,  0.2163817 ,  0.58893675,\n",
              "         0.00311109,  0.36671767,  0.33289212, -0.04696115,  0.02141835,\n",
              "        -0.00910146,  0.1271523 ,  0.0456312 , -0.05507861,  0.04968323,\n",
              "         0.03455656,  0.03300887, -0.04164477, -0.05103331,  0.00432462,\n",
              "         0.0196552 ,  0.02406366,  0.06514403,  0.04418479,  0.06074928]],\n",
              "      dtype=float32)"
            ]
          },
          "metadata": {},
          "execution_count": 56
        }
      ]
    },
    {
      "cell_type": "code",
      "source": [
        "reconstruction_error = np.abs(d - reconstructed)"
      ],
      "metadata": {
        "id": "Rk8nsRuTsxss"
      },
      "execution_count": 57,
      "outputs": []
    },
    {
      "cell_type": "code",
      "source": [
        "reconstruction_error"
      ],
      "metadata": {
        "colab": {
          "base_uri": "https://localhost:8080/"
        },
        "id": "MKypgaujsz0j",
        "outputId": "9b9eea3d-f188-4b9b-8cd8-3b86c3dc83a2"
      },
      "execution_count": 58,
      "outputs": [
        {
          "output_type": "execute_result",
          "data": {
            "text/plain": [
              "array([[0.01057847, 0.88490407, 0.95389091, 1.00757766, 0.06593242,\n",
              "        0.00915979, 0.95000059, 0.04839317, 0.98132706, 0.98803803,\n",
              "        0.01513952, 0.40572339, 1.06261214, 0.2163817 , 0.58893675,\n",
              "        0.00311109, 0.36671767, 0.33289212, 0.04696115, 0.02141835,\n",
              "        0.00910146, 0.12715229, 0.0456312 , 0.05507861, 0.04968323,\n",
              "        0.03455656, 0.03300887, 0.04164477, 0.05103331, 0.00432462,\n",
              "        0.0196552 , 0.02406366, 0.06514403, 0.04418479, 0.06074928]])"
            ]
          },
          "metadata": {},
          "execution_count": 58
        }
      ]
    },
    {
      "cell_type": "code",
      "source": [
        "param_errors = reconstruction_error[0]\n",
        "param_importance = np.argsort(param_errors)[::-1]"
      ],
      "metadata": {
        "id": "qxbp_OJRtMOG"
      },
      "execution_count": 44,
      "outputs": []
    },
    {
      "cell_type": "code",
      "source": [],
      "metadata": {
        "id": "BcuLvKbjtM8n"
      },
      "execution_count": null,
      "outputs": []
    },
    {
      "cell_type": "code",
      "source": [
        "d[0]"
      ],
      "metadata": {
        "colab": {
          "base_uri": "https://localhost:8080/"
        },
        "id": "YSX5Fu4XvZO_",
        "outputId": "199e36ff-f544-4dcb-b148-d1c665d24970"
      },
      "execution_count": 62,
      "outputs": [
        {
          "output_type": "execute_result",
          "data": {
            "text/plain": [
              "array([0, 1, 1, 1, 0, 0, 1, 0, 1, 1, 0, 0, 1, 0, 0, 0, 0, 0, 0, 0, 0, 0,\n",
              "       0, 0, 0, 0, 0, 0, 0, 0, 0, 0, 0, 0, 0])"
            ]
          },
          "metadata": {},
          "execution_count": 62
        }
      ]
    },
    {
      "cell_type": "code",
      "source": [
        "param_errors = reconstruction_error[0]\n",
        "param_importance = np.argsort(param_errors)[::-1]\n",
        "\n",
        "print(\"\\nParameters ranked by abnormality (highest error first):\")\n",
        "for idx in param_importance:\n",
        "    col = df_good.columns[idx]\n",
        "    diff = d[0][idx] - reconstructed[0][idx]\n",
        "    direction = \"Increase\" if diff < 0 else \"Decrease\"\n",
        "    print(f\"- {col}: {direction} (Current={dd.iloc[0, idx]}, Suggested≈{scaler.inverse_transform(reconstructed)[0][idx]:.1f})\")"
      ],
      "metadata": {
        "colab": {
          "base_uri": "https://localhost:8080/"
        },
        "id": "3p4YOv-Hm9GU",
        "outputId": "c0a8ef67-a8e0-4f61-bc67-66b0ee6f5e6f"
      },
      "execution_count": 64,
      "outputs": [
        {
          "output_type": "stream",
          "name": "stdout",
          "text": [
            "\n",
            "Parameters ranked by abnormality (highest error first):\n",
            "- hoallowed3: Decrease (Current=1, Suggested≈0.9)\n",
            "- poli1: Decrease (Current=1, Suggested≈1.0)\n",
            "- hoallowed0: Decrease (Current=1, Suggested≈1.0)\n",
            "- poli6: Decrease (Current=1, Suggested≈1.0)\n",
            "- bhpriority: Decrease (Current=1, Suggested≈1.0)\n",
            "- poli4: Decrease (Current=1, Suggested≈1.0)\n",
            "- idlehigh: Decrease (Current=1, Suggested≈0.4)\n",
            "- hoallowed5: Increase (Current=0, Suggested≈0.2)\n",
            "- hoallowed2: Increase (Current=0, Suggested≈0.8)\n",
            "- hoallowed7: Increase (Current=0, Suggested≈0.8)\n",
            "- hoallowed8: Increase (Current=0, Suggested≈0.8)\n",
            "- hoallowed4: Increase (Current=0, Suggested≈0.7)\n",
            "- hoallowed12: Increase (Current=0, Suggested≈0.0)\n",
            "- poli2: Decrease (Current=0, Suggested≈-0.1)\n",
            "- cellhoparacfg12.10: Increase (Current=0, Suggested≈0.1)\n",
            "- cellhoparacfg12.12: Increase (Current=0, Suggested≈0.1)\n",
            "- cellhoparacfg12.1: Decrease (Current=0, Suggested≈-0.1)\n",
            "- cellhoparacfg12.6: Decrease (Current=0, Suggested≈-0.1)\n",
            "- cellhoparacfg12.2: Increase (Current=0, Suggested≈0.0)\n",
            "- poli5: Increase (Current=0, Suggested≈1.0)\n",
            "- hoallowed9: Decrease (Current=0, Suggested≈-0.0)\n",
            "- cellhoparacfg12: Increase (Current=0, Suggested≈0.0)\n",
            "- cellhoparacfg12.11: Increase (Current=0, Suggested≈0.0)\n",
            "- cellhoparacfg12.5: Decrease (Current=0, Suggested≈-0.0)\n",
            "- cellhoparacfg12.3: Increase (Current=0, Suggested≈0.0)\n",
            "- cellhoparacfg12.4: Increase (Current=0, Suggested≈0.0)\n",
            "- cellhoparacfg12.9: Increase (Current=0, Suggested≈0.0)\n",
            "- hoallowed10: Increase (Current=0, Suggested≈0.0)\n",
            "- cellhoparacfg12.8: Increase (Current=0, Suggested≈0.0)\n",
            "- hoallowed1: Decrease (Current=0, Suggested≈-0.0)\n",
            "- interrathigh: Increase (Current=0, Suggested≈0.4)\n",
            "- poli3: Decrease (Current=0, Suggested≈-0.0)\n",
            "- hoallowed11: Decrease (Current=0, Suggested≈-0.0)\n",
            "- cellhoparacfg12.7: Increase (Current=0, Suggested≈0.0)\n",
            "- hoallowed6: Increase (Current=0, Suggested≈0.0)\n"
          ]
        }
      ]
    },
    {
      "cell_type": "code",
      "source": [
        "suggested_params = scaler.inverse_transform(reconstructed)\n",
        "suggested_df = pd.DataFrame(suggested_params, columns=df_good.columns)\n",
        "\n",
        "print(\"\\nSuggested new parameter values:\")\n",
        "print(suggested_df.round(2))"
      ],
      "metadata": {
        "colab": {
          "base_uri": "https://localhost:8080/"
        },
        "id": "52OQ2-fRm-hO",
        "outputId": "8d6ec40c-4590-4e2a-ef5c-f1456be91cab"
      },
      "execution_count": 16,
      "outputs": [
        {
          "output_type": "stream",
          "name": "stdout",
          "text": [
            "\n",
            "Suggested new parameter values:\n",
            "     interrathigh  idlehigh  bhpriority  poli1  poli2  poli3  poli4  poli5  \\\n",
            "0            1.00      1.00        1.00   1.00    0.0  -0.00   1.00    1.0   \n",
            "1           -0.00     -0.00        1.00   1.00   -0.0  -0.00   1.00    1.0   \n",
            "2           -0.00     -0.00        1.00   1.00   -0.0  -0.00   1.00    1.0   \n",
            "3           -0.00     -0.00        1.00   1.00   -0.0  -0.00   1.00    1.0   \n",
            "4           -0.00     -0.00        1.00   1.00   -0.0  -0.00   1.00    1.0   \n",
            "..            ...       ...         ...    ...    ...    ...    ...    ...   \n",
            "108          1.01      0.99        1.01   0.98    0.0  -0.01   1.00    1.0   \n",
            "109         -0.00     -0.00        1.00   1.00   -0.0  -0.00   1.00    1.0   \n",
            "110         -0.00     -0.00        1.00   1.00   -0.0  -0.00   1.00    1.0   \n",
            "111         -0.00     -0.00        1.00   1.00   -0.0  -0.00   1.00    1.0   \n",
            "112         -0.03     -0.04        1.01   1.01   -0.0  -0.02   1.01    1.0   \n",
            "\n",
            "     poli6  hoallowed0  ...  cellhoparacfg12.3  cellhoparacfg12.4  \\\n",
            "0     1.00         1.0  ...               0.00              -0.00   \n",
            "1     1.00         1.0  ...               0.00              -0.00   \n",
            "2     1.00         1.0  ...               0.00              -0.00   \n",
            "3     1.00         1.0  ...               0.00              -0.00   \n",
            "4     1.00         1.0  ...               0.00              -0.00   \n",
            "..     ...         ...  ...                ...                ...   \n",
            "108   1.00         1.0  ...               0.01               0.01   \n",
            "109   1.00         1.0  ...               0.00              -0.00   \n",
            "110   1.00         1.0  ...               0.00              -0.00   \n",
            "111   1.00         1.0  ...               0.00              -0.00   \n",
            "112   1.01         1.0  ...               0.02               0.01   \n",
            "\n",
            "     cellhoparacfg12.5  cellhoparacfg12.6  cellhoparacfg12.7  \\\n",
            "0                -0.00              -0.00               0.00   \n",
            "1                -0.00               0.00              -0.00   \n",
            "2                -0.00               0.00              -0.00   \n",
            "3                -0.00               0.00              -0.00   \n",
            "4                -0.00               0.00              -0.00   \n",
            "..                 ...                ...                ...   \n",
            "108              -0.01               0.00               0.01   \n",
            "109              -0.00               0.00              -0.00   \n",
            "110              -0.00               0.00              -0.00   \n",
            "111              -0.00               0.00              -0.00   \n",
            "112              -0.00               0.02               0.01   \n",
            "\n",
            "     cellhoparacfg12.8  cellhoparacfg12.9  cellhoparacfg12.10  \\\n",
            "0                -0.00               0.00               -0.00   \n",
            "1                -0.00               0.00                0.00   \n",
            "2                -0.00               0.00                0.00   \n",
            "3                -0.00               0.00                0.00   \n",
            "4                -0.00               0.00                0.00   \n",
            "..                 ...                ...                 ...   \n",
            "108              -0.03               0.02               -0.02   \n",
            "109              -0.00               0.00                0.00   \n",
            "110              -0.00               0.00                0.00   \n",
            "111              -0.00               0.00                0.00   \n",
            "112              -0.00              -0.00                0.01   \n",
            "\n",
            "     cellhoparacfg12.11  cellhoparacfg12.12  \n",
            "0                  0.00                0.00  \n",
            "1                 -0.00                0.00  \n",
            "2                 -0.00                0.00  \n",
            "3                 -0.00                0.00  \n",
            "4                 -0.00                0.00  \n",
            "..                  ...                 ...  \n",
            "108                0.01                0.00  \n",
            "109               -0.00                0.00  \n",
            "110               -0.00                0.00  \n",
            "111               -0.00                0.00  \n",
            "112                0.00                0.01  \n",
            "\n",
            "[113 rows x 35 columns]\n"
          ]
        }
      ]
    }
  ]
}